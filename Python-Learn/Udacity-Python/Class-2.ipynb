{
 "cells": [
  {
   "cell_type": "code",
   "execution_count": 1,
   "metadata": {},
   "outputs": [],
   "source": [
    "import webbrowser\n",
    "import time\n"
   ]
  },
  {
   "cell_type": "code",
   "execution_count": 2,
   "metadata": {},
   "outputs": [
    {
     "name": "stdout",
     "output_type": "stream",
     "text": [
      "This program is started on Sat Apr 14 21:18:44 2018\n",
      "This program is started on Sat Apr 14 21:18:54 2018\n"
     ]
    },
    {
     "ename": "KeyboardInterrupt",
     "evalue": "",
     "output_type": "error",
     "traceback": [
      "\u001b[1;31m---------------------------------------------------------------------------\u001b[0m",
      "\u001b[1;31mKeyboardInterrupt\u001b[0m                         Traceback (most recent call last)",
      "\u001b[1;32m<ipython-input-2-bfac13eb66b3>\u001b[0m in \u001b[0;36m<module>\u001b[1;34m()\u001b[0m\n\u001b[0;32m      4\u001b[0m \u001b[1;32mwhile\u001b[0m\u001b[1;33m(\u001b[0m\u001b[0mbreaks_count\u001b[0m\u001b[1;33m<\u001b[0m\u001b[0mtotal_breaks\u001b[0m\u001b[1;33m)\u001b[0m\u001b[1;33m:\u001b[0m\u001b[1;33m\u001b[0m\u001b[0m\n\u001b[0;32m      5\u001b[0m     \u001b[0mprint\u001b[0m\u001b[1;33m(\u001b[0m\u001b[1;34m\"This program is started on \"\u001b[0m\u001b[1;33m+\u001b[0m\u001b[0mtime\u001b[0m\u001b[1;33m.\u001b[0m\u001b[0mctime\u001b[0m\u001b[1;33m(\u001b[0m\u001b[1;33m)\u001b[0m\u001b[1;33m)\u001b[0m\u001b[1;33m\u001b[0m\u001b[0m\n\u001b[1;32m----> 6\u001b[1;33m     \u001b[0mtime\u001b[0m\u001b[1;33m.\u001b[0m\u001b[0msleep\u001b[0m\u001b[1;33m(\u001b[0m\u001b[1;36m10\u001b[0m\u001b[1;33m)\u001b[0m\u001b[1;33m\u001b[0m\u001b[0m\n\u001b[0m\u001b[0;32m      7\u001b[0m     \u001b[0mwebbrowser\u001b[0m\u001b[1;33m.\u001b[0m\u001b[0mopen\u001b[0m\u001b[1;33m(\u001b[0m\u001b[1;34m\"www.baidu.com\"\u001b[0m\u001b[1;33m)\u001b[0m\u001b[1;33m\u001b[0m\u001b[0m\n\u001b[0;32m      8\u001b[0m     \u001b[0mbreaks_count\u001b[0m\u001b[1;33m=\u001b[0m\u001b[0mbreaks_count\u001b[0m\u001b[1;33m+\u001b[0m\u001b[1;36m1\u001b[0m\u001b[1;33m\u001b[0m\u001b[0m\n",
      "\u001b[1;31mKeyboardInterrupt\u001b[0m: "
     ]
    }
   ],
   "source": [
    "total_breaks=3\n",
    "breaks_count=0\n",
    "\n",
    "while(breaks_count<total_breaks):\n",
    "    print(\"This program is started on \"+time.ctime())\n",
    "    time.sleep(10)\n",
    "    webbrowser.open(\"www.baidu.com\")\n",
    "    breaks_count=breaks_count+1\n"
   ]
  },
  {
   "cell_type": "code",
   "execution_count": 1,
   "metadata": {},
   "outputs": [],
   "source": [
    "import os\n",
    "import string"
   ]
  },
  {
   "cell_type": "code",
   "execution_count": 8,
   "metadata": {},
   "outputs": [],
   "source": [
    "def rename_files():\n",
    "    file_list=os.listdir(r\"E:\\_Code\\Python\\Python-Learn\\Udacity-Python\\prank\\prank\")\n",
    "    saved_path=os.getcwd();\n",
    "    print(\"Current Working Dictionary is \" +saved_path)\n",
    "    os.chdir(r\"E:\\_Code\\Python\\Python-Learn\\Udacity-Python\\prank\\prank\")\n",
    "    #saved_path=os.getcwd();\n",
    "    for file_name in file_list:\n",
    "        print(\"Old Name - \"+file_name)\n",
    "        print(\"New Name - \"+file_name.translate(None,\"0123456789\"))\n",
    "        os.rename(file_name,file_name.translate(None,\"0123456789\"))"
   ]
  },
  {
   "cell_type": "code",
   "execution_count": 9,
   "metadata": {},
   "outputs": [
    {
     "name": "stdout",
     "output_type": "stream",
     "text": [
      "Current Working Dictionary is E:\\_Code\\Python\\Python-Learn\\Udacity-Python\\prank\\prank\n",
      "Old Name - .DS_Store\n",
      "New Name - .DS_Store\n",
      "Old Name - 16los angeles.jpg\n",
      "New Name - los angeles.jpg\n",
      "Old Name - 17cairo.jpg\n",
      "New Name - cairo.jpg\n",
      "Old Name - 22rochester.jpg\n",
      "New Name - rochester.jpg\n",
      "Old Name - 25madrid.jpg\n",
      "New Name - madrid.jpg\n",
      "Old Name - 28houston.jpg\n",
      "New Name - houston.jpg\n",
      "Old Name - 29bristol.jpg\n",
      "New Name - bristol.jpg\n",
      "Old Name - 29buenos aires.jpg\n",
      "New Name - buenos aires.jpg\n",
      "Old Name - 2chennai.jpg\n",
      "New Name - chennai.jpg\n",
      "Old Name - 2hyderabad.jpg\n",
      "New Name - hyderabad.jpg\n",
      "Old Name - 35miami.jpg\n",
      "New Name - miami.jpg\n",
      "Old Name - 36sydney.jpg\n",
      "New Name - sydney.jpg\n",
      "Old Name - 37athens.jpg\n",
      "New Name - athens.jpg\n",
      "Old Name - 41seoul.jpg\n",
      "New Name - seoul.jpg\n",
      "Old Name - 45austin.jpg\n",
      "New Name - austin.jpg\n",
      "Old Name - 45ithaca.jpg\n",
      "New Name - ithaca.jpg\n",
      "Old Name - 46colombo.jpg\n",
      "New Name - colombo.jpg\n",
      "Old Name - 47london.jpg\n",
      "New Name - london.jpg\n",
      "Old Name - 47sao paulo.jpg\n",
      "New Name - sao paulo.jpg\n",
      "Old Name - 47singapore.jpg\n",
      "New Name - singapore.jpg\n",
      "Old Name - 48sunnyvale.jpg\n",
      "New Name - sunnyvale.jpg\n",
      "Old Name - 4istanbul.jpg\n",
      "New Name - istanbul.jpg\n",
      "Old Name - 50san diego.jpg\n",
      "New Name - san diego.jpg\n",
      "Old Name - 52new york.jpg\n",
      "New Name - new york.jpg\n",
      "Old Name - 54dallas.jpg\n",
      "New Name - dallas.jpg\n",
      "Old Name - 55kiev.jpg\n",
      "New Name - kiev.jpg\n",
      "Old Name - 5bogota.jpg\n",
      "New Name - bogota.jpg\n",
      "Old Name - 61edinbrugh.jpg\n",
      "New Name - edinbrugh.jpg\n",
      "Old Name - 64seattle.jpg\n",
      "New Name - seattle.jpg\n",
      "Old Name - 66san jose.jpg\n",
      "New Name - san jose.jpg\n",
      "Old Name - 68pune.jpg\n",
      "New Name - pune.jpg\n",
      "Old Name - 69chicago.jpg\n",
      "New Name - chicago.jpg\n",
      "Old Name - 69shanghai.jpg\n",
      "New Name - shanghai.jpg\n",
      "Old Name - 72bangalore.jpg\n",
      "New Name - bangalore.jpg\n",
      "Old Name - 72bucharest.jpg\n",
      "New Name - bucharest.jpg\n",
      "Old Name - 73delhi.jpg\n",
      "New Name - delhi.jpg\n",
      "Old Name - 74tel aviv.jpg\n",
      "New Name - tel aviv.jpg\n",
      "Old Name - 83gainesville.jpg\n",
      "New Name - gainesville.jpg\n",
      "Old Name - 88jacksonville.jpg\n",
      "New Name - jacksonville.jpg\n",
      "Old Name - 89berkeley.jpg\n",
      "New Name - berkeley.jpg\n",
      "Old Name - 90beijing.jpg\n",
      "New Name - beijing.jpg\n",
      "Old Name - 93manchester.jpg\n",
      "New Name - manchester.jpg\n",
      "Old Name - 96karachi.jpg\n",
      "New Name - karachi.jpg\n",
      "Old Name - 97oakland.jpg\n",
      "New Name - oakland.jpg\n",
      "Old Name - 9barcelona.jpg\n",
      "New Name - barcelona.jpg\n"
     ]
    }
   ],
   "source": [
    "rename_files()"
   ]
  },
  {
   "cell_type": "code",
   "execution_count": null,
   "metadata": {
    "collapsed": true
   },
   "outputs": [],
   "source": []
  }
 ],
 "metadata": {
  "kernelspec": {
   "display_name": "Python 2",
   "language": "python",
   "name": "python2"
  },
  "language_info": {
   "codemirror_mode": {
    "name": "ipython",
    "version": 2
   },
   "file_extension": ".py",
   "mimetype": "text/x-python",
   "name": "python",
   "nbconvert_exporter": "python",
   "pygments_lexer": "ipython2",
   "version": "2.7.13"
  }
 },
 "nbformat": 4,
 "nbformat_minor": 2
}
