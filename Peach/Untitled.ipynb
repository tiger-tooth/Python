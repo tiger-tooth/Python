{
 "cells": [
  {
   "cell_type": "code",
   "execution_count": 2,
   "metadata": {},
   "outputs": [
    {
     "ename": "NameError",
     "evalue": "name 'mat' is not defined",
     "output_type": "error",
     "traceback": [
      "\u001b[0;31m---------------------------------------------------------------------------\u001b[0m",
      "\u001b[0;31mNameError\u001b[0m                                 Traceback (most recent call last)",
      "\u001b[0;32m<ipython-input-2-de5010981195>\u001b[0m in \u001b[0;36m<module>\u001b[0;34m()\u001b[0m\n\u001b[1;32m      1\u001b[0m \u001b[0;32mimport\u001b[0m \u001b[0mscipy\u001b[0m\u001b[0;34m.\u001b[0m\u001b[0msignal\u001b[0m\u001b[0;34m\u001b[0m\u001b[0m\n\u001b[1;32m      2\u001b[0m \u001b[0;32mimport\u001b[0m \u001b[0mnumpy\u001b[0m \u001b[0;32mas\u001b[0m \u001b[0mnp\u001b[0m\u001b[0;34m\u001b[0m\u001b[0m\n\u001b[0;32m----> 3\u001b[0;31m B=mat([[20,20,20,20,50,50,50,20,20,20,20],\n\u001b[0m\u001b[1;32m      4\u001b[0m \u001b[0;34m[\u001b[0m\u001b[0;36m20\u001b[0m\u001b[0;34m,\u001b[0m\u001b[0;36m20\u001b[0m\u001b[0;34m,\u001b[0m\u001b[0;36m20\u001b[0m\u001b[0;34m,\u001b[0m\u001b[0;36m20\u001b[0m\u001b[0;34m,\u001b[0m\u001b[0;36m50\u001b[0m\u001b[0;34m,\u001b[0m\u001b[0;36m50\u001b[0m\u001b[0;34m,\u001b[0m\u001b[0;36m50\u001b[0m\u001b[0;34m,\u001b[0m\u001b[0;36m20\u001b[0m\u001b[0;34m,\u001b[0m\u001b[0;36m20\u001b[0m\u001b[0;34m,\u001b[0m\u001b[0;36m20\u001b[0m\u001b[0;34m,\u001b[0m\u001b[0;36m20\u001b[0m\u001b[0;34m]\u001b[0m\u001b[0;34m,\u001b[0m\u001b[0;34m\u001b[0m\u001b[0m\n\u001b[1;32m      5\u001b[0m \u001b[0;34m[\u001b[0m\u001b[0;36m20\u001b[0m\u001b[0;34m,\u001b[0m\u001b[0;36m20\u001b[0m\u001b[0;34m,\u001b[0m\u001b[0;36m20\u001b[0m\u001b[0;34m,\u001b[0m\u001b[0;36m20\u001b[0m\u001b[0;34m,\u001b[0m\u001b[0;36m50\u001b[0m\u001b[0;34m,\u001b[0m\u001b[0;36m50\u001b[0m\u001b[0;34m,\u001b[0m\u001b[0;36m50\u001b[0m\u001b[0;34m,\u001b[0m\u001b[0;36m20\u001b[0m\u001b[0;34m,\u001b[0m\u001b[0;36m20\u001b[0m\u001b[0;34m,\u001b[0m\u001b[0;36m20\u001b[0m\u001b[0;34m,\u001b[0m\u001b[0;36m20\u001b[0m\u001b[0;34m]\u001b[0m\u001b[0;34m,\u001b[0m\u001b[0;34m\u001b[0m\u001b[0m\n",
      "\u001b[0;31mNameError\u001b[0m: name 'mat' is not defined"
     ]
    }
   ],
   "source": [
    "import scipy.signal\n",
    "import numpy as np\n",
    "B=mat([[20,20,20,20,50,50,50,20,20,20,20],\n",
    "[20,20,20,20,50,50,50,20,20,20,20],\n",
    "[20,20,20,20,50,50,50,20,20,20,20],\n",
    "[20,20,20,20,50,50,50,20,20,20,20],\n",
    "[20,20,20,20,50,50,50,20,20,20,20],\n",
    "[20,20,20,20,50,50,50,20,20,20,20],\n",
    "[20,20,20,20,50,50,50,20,20,20,20]])\n",
    "\n",
    "# Filtermatrix\n",
    "h=1/16*np.array([[1,2,1],                        \n",
    "                [2,4,2],\n",
    "                [1,2,1]])\n",
    "\n",
    "B_=scipy.signal.convolve(B,h) #卷积运算\n",
    "u_B_,v_B_=B_.shape\n",
    "u0=int((u_B_-5)/2)\n",
    "u1=int(u_B_-u0)\n",
    "v0=int(u0)\n",
    "v1=int(v_B_-v0)\n",
    "H=B_[u0:u1,v0:v1]\n",
    "u_H,v_H=H.shape\n",
    "H_=np.empty((H.size)).reshape(u_H,v_H)\n",
    "u=0\n",
    "v=0\n",
    "while u<u_H:\n",
    "    while v<v_H:\n",
    "        g=math.floor(H[u,v])\n",
    "        if (H[u,v]-g)>=0.5:\n",
    "            H_[u,v]=np.around(g+1)\n",
    "        else:\n",
    "            H_[u,v]=np.around(g)\n",
    "        print(H_[u,v])\n",
    "        v=v+1\n",
    "    u=u+1\n",
    "    v=0\n",
    "\n",
    "\n",
    "print(u_B,v_B)\n",
    "print(u_B_,v_B_)\n",
    "print(H_)"
   ]
  },
  {
   "cell_type": "code",
   "execution_count": null,
   "metadata": {},
   "outputs": [],
   "source": []
  }
 ],
 "metadata": {
  "kernelspec": {
   "display_name": "Python 3",
   "language": "python",
   "name": "python3"
  },
  "language_info": {
   "codemirror_mode": {
    "name": "ipython",
    "version": 3
   },
   "file_extension": ".py",
   "mimetype": "text/x-python",
   "name": "python",
   "nbconvert_exporter": "python",
   "pygments_lexer": "ipython3",
   "version": "3.6.5"
  }
 },
 "nbformat": 4,
 "nbformat_minor": 2
}
